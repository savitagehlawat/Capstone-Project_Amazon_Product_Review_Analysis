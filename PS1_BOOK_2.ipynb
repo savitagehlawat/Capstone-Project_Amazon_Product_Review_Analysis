{
  "cells": [
    {
      "cell_type": "code",
      "execution_count": null,
      "id": "392f2847",
      "metadata": {
        "id": "392f2847"
      },
      "outputs": [],
      "source": [
        "import pandas as pd\n",
        "import numpy as np\n",
        "import os\n",
        "import json\n",
        "import gzip\n",
        "import pandas as pd\n",
        "from urllib.request import urlopen\n",
        "import random\n",
        "import numpy as np\n",
        "from tqdm import tqdm_notebook as tqdm\n",
        "from collections import defaultdict\n",
        "from sklearn.model_selection import train_test_split\n",
        "# !pip install fasttext\n",
        "from sklearn.feature_extraction.text import CountVectorizer\n",
        "from sklearn.naive_bayes import MultinomialNB\n",
        "from sklearn.metrics import confusion_matrix,classification_report,accuracy_score,roc_auc_score\n",
        "import seaborn as sns"
      ]
    },
    {
      "cell_type": "code",
      "execution_count": null,
      "id": "95f24352",
      "metadata": {
        "id": "95f24352"
      },
      "outputs": [],
      "source": [
        "df=pd.read_csv(\"data_sentiment.csv\")"
      ]
    },
    {
      "cell_type": "code",
      "execution_count": null,
      "id": "d9af3661",
      "metadata": {
        "id": "d9af3661",
        "outputId": "46149b3b-577c-4dee-ee27-6c1fed4ce6e8"
      },
      "outputs": [
        {
          "data": {
            "text/html": [
              "<div>\n",
              "<style scoped>\n",
              "    .dataframe tbody tr th:only-of-type {\n",
              "        vertical-align: middle;\n",
              "    }\n",
              "\n",
              "    .dataframe tbody tr th {\n",
              "        vertical-align: top;\n",
              "    }\n",
              "\n",
              "    .dataframe thead th {\n",
              "        text-align: right;\n",
              "    }\n",
              "</style>\n",
              "<table border=\"1\" class=\"dataframe\">\n",
              "  <thead>\n",
              "    <tr style=\"text-align: right;\">\n",
              "      <th></th>\n",
              "      <th>Unnamed: 0</th>\n",
              "      <th>reviewerID</th>\n",
              "      <th>asin</th>\n",
              "      <th>reviewerName</th>\n",
              "      <th>helpful</th>\n",
              "      <th>reviewText</th>\n",
              "      <th>overall</th>\n",
              "      <th>summary</th>\n",
              "      <th>unixReviewTime</th>\n",
              "      <th>reviewTime</th>\n",
              "      <th>Category</th>\n",
              "      <th>Pos</th>\n",
              "      <th>Neg</th>\n",
              "      <th>Neu</th>\n",
              "      <th>compound</th>\n",
              "      <th>sentiment</th>\n",
              "    </tr>\n",
              "  </thead>\n",
              "  <tbody>\n",
              "    <tr>\n",
              "      <th>0</th>\n",
              "      <td>47021</td>\n",
              "      <td>A1LZ63OMHD6YNK</td>\n",
              "      <td>B000HDNCHI</td>\n",
              "      <td>Old Man River</td>\n",
              "      <td>[1, 1]</td>\n",
              "      <td>chage tire 1200 mile cotiet harshel gatorski  ...</td>\n",
              "      <td>5.0</td>\n",
              "      <td>These Are Good Tires</td>\n",
              "      <td>1378944000</td>\n",
              "      <td>09 12, 2013</td>\n",
              "      <td>Sports &amp; Outdoors</td>\n",
              "      <td>0.000</td>\n",
              "      <td>0.000</td>\n",
              "      <td>1.000</td>\n",
              "      <td>0.0000</td>\n",
              "      <td>Neutral</td>\n",
              "    </tr>\n",
              "    <tr>\n",
              "      <th>1</th>\n",
              "      <td>273341</td>\n",
              "      <td>A3KVXLRJ2O6RAS</td>\n",
              "      <td>B007D4R4ZK</td>\n",
              "      <td>Old Broad</td>\n",
              "      <td>[0, 0]</td>\n",
              "      <td>i'v bee usig prouct sever year  ow couter oly,...</td>\n",
              "      <td>5.0</td>\n",
              "      <td>Price</td>\n",
              "      <td>1366329600</td>\n",
              "      <td>04 19, 2013</td>\n",
              "      <td>Health &amp; Personal Care</td>\n",
              "      <td>0.149</td>\n",
              "      <td>0.000</td>\n",
              "      <td>0.851</td>\n",
              "      <td>0.6369</td>\n",
              "      <td>Very Satisfied</td>\n",
              "    </tr>\n",
              "    <tr>\n",
              "      <th>2</th>\n",
              "      <td>227768</td>\n",
              "      <td>A3NGLZL8GFGZOE</td>\n",
              "      <td>B004H468S8</td>\n",
              "      <td>Brian</td>\n",
              "      <td>[0, 0]</td>\n",
              "      <td>o't give prouct 5 star ratig o't use featur me...</td>\n",
              "      <td>4.0</td>\n",
              "      <td>Omron BP760 7 Blood Pressure Monitor</td>\n",
              "      <td>1343001600</td>\n",
              "      <td>07 23, 2012</td>\n",
              "      <td>Health &amp; Personal Care</td>\n",
              "      <td>0.000</td>\n",
              "      <td>0.128</td>\n",
              "      <td>0.872</td>\n",
              "      <td>-0.2960</td>\n",
              "      <td>Dissatisfied</td>\n",
              "    </tr>\n",
              "    <tr>\n",
              "      <th>3</th>\n",
              "      <td>194040</td>\n",
              "      <td>A2RHFO4FX45UVU</td>\n",
              "      <td>B0038QQ7TG</td>\n",
              "      <td>teambarrett14</td>\n",
              "      <td>[0, 0]</td>\n",
              "      <td>favourit wash eve husba uless make tropic trai...</td>\n",
              "      <td>5.0</td>\n",
              "      <td>the best! besides homemade</td>\n",
              "      <td>1325721600</td>\n",
              "      <td>01 5, 2012</td>\n",
              "      <td>Health &amp; Personal Care</td>\n",
              "      <td>0.000</td>\n",
              "      <td>0.000</td>\n",
              "      <td>1.000</td>\n",
              "      <td>0.0000</td>\n",
              "      <td>Neutral</td>\n",
              "    </tr>\n",
              "    <tr>\n",
              "      <th>4</th>\n",
              "      <td>159231</td>\n",
              "      <td>A2VH0UT5EQFB6P</td>\n",
              "      <td>B0028K3IZY</td>\n",
              "      <td>Loveguitar</td>\n",
              "      <td>[0, 0]</td>\n",
              "      <td>eoorat smell ice whe first applie, time goe sc...</td>\n",
              "      <td>3.0</td>\n",
              "      <td>Very Strong Scent</td>\n",
              "      <td>1243468800</td>\n",
              "      <td>05 28, 2009</td>\n",
              "      <td>Health &amp; Personal Care</td>\n",
              "      <td>0.088</td>\n",
              "      <td>0.000</td>\n",
              "      <td>0.912</td>\n",
              "      <td>0.8478</td>\n",
              "      <td>Very Satisfied</td>\n",
              "    </tr>\n",
              "  </tbody>\n",
              "</table>\n",
              "</div>"
            ],
            "text/plain": [
              "   Unnamed: 0      reviewerID        asin   reviewerName helpful  \\\n",
              "0       47021  A1LZ63OMHD6YNK  B000HDNCHI  Old Man River  [1, 1]   \n",
              "1      273341  A3KVXLRJ2O6RAS  B007D4R4ZK      Old Broad  [0, 0]   \n",
              "2      227768  A3NGLZL8GFGZOE  B004H468S8          Brian  [0, 0]   \n",
              "3      194040  A2RHFO4FX45UVU  B0038QQ7TG  teambarrett14  [0, 0]   \n",
              "4      159231  A2VH0UT5EQFB6P  B0028K3IZY     Loveguitar  [0, 0]   \n",
              "\n",
              "                                          reviewText  overall  \\\n",
              "0  chage tire 1200 mile cotiet harshel gatorski  ...      5.0   \n",
              "1  i'v bee usig prouct sever year  ow couter oly,...      5.0   \n",
              "2  o't give prouct 5 star ratig o't use featur me...      4.0   \n",
              "3  favourit wash eve husba uless make tropic trai...      5.0   \n",
              "4  eoorat smell ice whe first applie, time goe sc...      3.0   \n",
              "\n",
              "                                summary  unixReviewTime   reviewTime  \\\n",
              "0                  These Are Good Tires      1378944000  09 12, 2013   \n",
              "1                                 Price      1366329600  04 19, 2013   \n",
              "2  Omron BP760 7 Blood Pressure Monitor      1343001600  07 23, 2012   \n",
              "3            the best! besides homemade      1325721600   01 5, 2012   \n",
              "4                     Very Strong Scent      1243468800  05 28, 2009   \n",
              "\n",
              "                 Category    Pos    Neg    Neu  compound       sentiment  \n",
              "0       Sports & Outdoors  0.000  0.000  1.000    0.0000         Neutral  \n",
              "1  Health & Personal Care  0.149  0.000  0.851    0.6369  Very Satisfied  \n",
              "2  Health & Personal Care  0.000  0.128  0.872   -0.2960    Dissatisfied  \n",
              "3  Health & Personal Care  0.000  0.000  1.000    0.0000         Neutral  \n",
              "4  Health & Personal Care  0.088  0.000  0.912    0.8478  Very Satisfied  "
            ]
          },
          "execution_count": 11,
          "metadata": {},
          "output_type": "execute_result"
        }
      ],
      "source": [
        "df.head()"
      ]
    },
    {
      "cell_type": "code",
      "execution_count": null,
      "id": "4af9c10a",
      "metadata": {
        "id": "4af9c10a"
      },
      "outputs": [],
      "source": [
        "df.loc[df[\"compound\"]>.6,\"sentiment\"]=5\n",
        "df.loc[(df[\"compound\"]<=.6)&(df[\"compound\"]>.2),\"sentiment\"]=4\n",
        "df.loc[(df[\"compound\"]<=.2)&(df[\"compound\"]>-.2),\"sentiment\"]=3\n",
        "df.loc[(df[\"compound\"]<=-.2)&(df[\"compound\"]>-.6),\"sentiment\"]=2\n",
        "df.loc[df[\"compound\"]<-.6,\"sentiment\"]=1"
      ]
    },
    {
      "cell_type": "code",
      "execution_count": null,
      "id": "8b10b118",
      "metadata": {
        "id": "8b10b118",
        "outputId": "73adf737-efb4-4c2d-950c-373bddb557d1"
      },
      "outputs": [
        {
          "data": {
            "text/plain": [
              "array([3, 5, 2, 4, 1], dtype=object)"
            ]
          },
          "execution_count": 13,
          "metadata": {},
          "output_type": "execute_result"
        }
      ],
      "source": [
        "df.sentiment.unique()"
      ]
    },
    {
      "cell_type": "code",
      "execution_count": null,
      "id": "6be873c4",
      "metadata": {
        "id": "6be873c4"
      },
      "outputs": [],
      "source": [
        "df[\"sentiment\"]=df[\"sentiment\"].astype(\"int\")"
      ]
    },
    {
      "cell_type": "markdown",
      "id": "7e03c06a",
      "metadata": {
        "id": "7e03c06a"
      },
      "source": [
        "# Creating model"
      ]
    },
    {
      "cell_type": "code",
      "execution_count": null,
      "id": "45edb08b",
      "metadata": {
        "id": "45edb08b",
        "outputId": "c8f0cdd6-97fe-46f0-ce64-56b974f3ad52"
      },
      "outputs": [
        {
          "name": "stderr",
          "output_type": "stream",
          "text": [
            "[nltk_data] Downloading package stopwords to\n",
            "[nltk_data]     C:\\Users\\AR\\AppData\\Roaming\\nltk_data...\n",
            "[nltk_data]   Package stopwords is already up-to-date!\n",
            "[nltk_data] Downloading package averaged_perceptron_tagger to\n",
            "[nltk_data]     C:\\Users\\AR\\AppData\\Roaming\\nltk_data...\n",
            "[nltk_data]   Package averaged_perceptron_tagger is already up-to-\n",
            "[nltk_data]       date!\n",
            "[nltk_data] Downloading package wordnet to\n",
            "[nltk_data]     C:\\Users\\AR\\AppData\\Roaming\\nltk_data...\n",
            "[nltk_data]   Package wordnet is already up-to-date!\n"
          ]
        }
      ],
      "source": [
        "import nltk\n",
        "nltk.download('stopwords')\n",
        "nltk.download('averaged_perceptron_tagger')\n",
        "nltk.download('wordnet')\n",
        "from nltk.corpus import stopwords\n",
        "import re\n",
        "stemmer = nltk.SnowballStemmer(\"english\")\n",
        "stopword=set(stopwords.words('english'))"
      ]
    },
    {
      "cell_type": "code",
      "execution_count": null,
      "id": "3e00a241",
      "metadata": {
        "id": "3e00a241"
      },
      "outputs": [],
      "source": [
        "def clean(text):\n",
        "    text = str(text).lower()\n",
        "    text = re.sub('[.*?]', '', text)\n",
        "    text = re.sub('https?://S+|www.S+', '', text)\n",
        "    text = re.sub('n', '', text)\n",
        "    text = re.sub('w*dw*', '', text)\n",
        "    text = [word for word in text.split(' ') if word not in stopword]\n",
        "    text=\" \".join(text)\n",
        "    text = [stemmer.stem(word) for word in text.split(' ')]\n",
        "    text=\" \".join(text)\n",
        "    return text\n",
        "df[\"reviewText\"] = df[\"reviewText\"].apply(clean)"
      ]
    },
    {
      "cell_type": "code",
      "execution_count": null,
      "id": "ecd5aade",
      "metadata": {
        "id": "ecd5aade"
      },
      "outputs": [],
      "source": [
        "df=df[[\"reviewText\",\"sentiment\"]]"
      ]
    },
    {
      "cell_type": "markdown",
      "id": "ddef2eb8",
      "metadata": {
        "id": "ddef2eb8"
      },
      "source": [
        "## Splitting data into test and train"
      ]
    },
    {
      "cell_type": "code",
      "execution_count": null,
      "id": "7347610c",
      "metadata": {
        "id": "7347610c"
      },
      "outputs": [],
      "source": [
        "X = df.reviewText\n",
        "y = df.sentiment\n",
        "X_train,X_test,y_train,y_test = train_test_split(X,y,test_size=0.2,random_state=0)"
      ]
    },
    {
      "cell_type": "markdown",
      "id": "ec3c7a85",
      "metadata": {
        "id": "ec3c7a85"
      },
      "source": [
        "## Logistic regression"
      ]
    },
    {
      "cell_type": "code",
      "execution_count": null,
      "id": "67ece018",
      "metadata": {
        "scrolled": true,
        "id": "67ece018",
        "outputId": "84f40934-453e-451c-db48-40966e069055"
      },
      "outputs": [
        {
          "name": "stderr",
          "output_type": "stream",
          "text": [
            "[Parallel(n_jobs=1)]: Using backend SequentialBackend with 1 concurrent workers.\n",
            "[Parallel(n_jobs=1)]: Done   1 out of   1 | elapsed:    2.7s finished\n",
            "[Parallel(n_jobs=1)]: Using backend SequentialBackend with 1 concurrent workers.\n",
            "[Parallel(n_jobs=1)]: Done   1 out of   1 | elapsed:    4.7s finished\n",
            "[Parallel(n_jobs=1)]: Using backend SequentialBackend with 1 concurrent workers.\n",
            "[Parallel(n_jobs=1)]: Done   1 out of   1 | elapsed:    5.1s finished\n",
            "[Parallel(n_jobs=1)]: Using backend SequentialBackend with 1 concurrent workers.\n",
            "[Parallel(n_jobs=1)]: Done   1 out of   1 | elapsed:    5.9s finished\n",
            "[Parallel(n_jobs=1)]: Using backend SequentialBackend with 1 concurrent workers.\n"
          ]
        },
        {
          "name": "stdout",
          "output_type": "stream",
          "text": [
            "Micro F1-score for logistic regression: 0.7796794772055392\n"
          ]
        },
        {
          "name": "stderr",
          "output_type": "stream",
          "text": [
            "[Parallel(n_jobs=1)]: Done   1 out of   1 | elapsed:    4.2s finished\n"
          ]
        }
      ],
      "source": [
        "from sklearn.linear_model import LogisticRegression\n",
        "from sklearn.multiclass import OneVsRestClassifier\n",
        "from sklearn.metrics import f1_score\n",
        "from sklearn.feature_extraction.text import TfidfVectorizer\n",
        "\n",
        "tfidf_vectorizer = TfidfVectorizer(max_df=0.8, max_features=5000)\n",
        "x_train = tfidf_vectorizer.fit_transform(X_train)\n",
        "x_test = tfidf_vectorizer.transform(X_test)\n",
        "\n",
        "lr = LogisticRegression(max_iter=200, verbose=1)\n",
        "ovr = OneVsRestClassifier(lr)\n",
        "\n",
        "# fit the model on the training data\n",
        "ovr.fit(x_train, y_train)\n",
        "\n",
        "# predictions for test set\n",
        "y_pred = ovr.predict(x_test)\n",
        "# print(multilabel_binarizer.inverse_transform(y_pred)[7])\n",
        "\n",
        "# compute F1-score\n",
        "f1_score1 = f1_score(y_test, y_pred, average=\"micro\")\n",
        "print(\"Micro F1-score for logistic regression: \"+ str(f1_score1))"
      ]
    },
    {
      "cell_type": "code",
      "execution_count": null,
      "id": "b57e3a70",
      "metadata": {
        "id": "b57e3a70",
        "outputId": "3b58db15-1704-4b6b-e4b6-f8825631b355"
      },
      "outputs": [
        {
          "name": "stdout",
          "output_type": "stream",
          "text": [
            "              precision    recall  f1-score   support\n",
            "\n",
            "           1       0.58      0.12      0.20       926\n",
            "           2       0.41      0.18      0.25      2653\n",
            "           3       0.67      0.69      0.68      7268\n",
            "           4       0.68      0.53      0.59     11509\n",
            "           5       0.85      0.98      0.91     29060\n",
            "\n",
            "    accuracy                           0.78     51416\n",
            "   macro avg       0.64      0.50      0.53     51416\n",
            "weighted avg       0.76      0.78      0.76     51416\n",
            "\n"
          ]
        }
      ],
      "source": [
        "print(classification_report(y_test,y_pred))"
      ]
    },
    {
      "cell_type": "markdown",
      "id": "3980d2db",
      "metadata": {
        "id": "3980d2db"
      },
      "source": [
        "# Multinomial NB"
      ]
    },
    {
      "cell_type": "code",
      "execution_count": null,
      "id": "5c7b8736",
      "metadata": {
        "id": "5c7b8736",
        "outputId": "fa561271-5ea4-441c-f7dd-c30b2277d3d2"
      },
      "outputs": [
        {
          "name": "stdout",
          "output_type": "stream",
          "text": [
            "Micro F1-score for logistic regression: 0.5654076552046056\n"
          ]
        }
      ],
      "source": [
        "from sklearn.naive_bayes import MultinomialNB\n",
        "from sklearn.multiclass import OneVsRestClassifier\n",
        "from sklearn.metrics import f1_score\n",
        "\n",
        "tfidf_vectorizer = TfidfVectorizer(max_df=0.8, max_features=5000)\n",
        "x_train = tfidf_vectorizer.fit_transform(X_train)\n",
        "x_test = tfidf_vectorizer.transform(X_test)\n",
        "\n",
        "lr = MultinomialNB()\n",
        "ovr = OneVsRestClassifier(lr)\n",
        "\n",
        "# fit the model on the training data\n",
        "ovr.fit(x_train, y_train)\n",
        "\n",
        "# predictions for test set\n",
        "y_pred = ovr.predict(x_test)\n",
        "# print(multilabel_binarizer.inverse_transform(y_pred)[7])\n",
        "\n",
        "# compute F1-score\n",
        "f1_score1 = f1_score(y_test, y_pred, average=\"micro\")\n",
        "print(\"Micro F1-score for logistic regression: \"+ str(f1_score1))"
      ]
    },
    {
      "cell_type": "markdown",
      "id": "76a7e0a6",
      "metadata": {
        "id": "76a7e0a6"
      },
      "source": [
        "Prediction will be done using logistic regression since it has a better score as compared to Naiv bias"
      ]
    },
    {
      "cell_type": "code",
      "execution_count": null,
      "id": "1fdb3537",
      "metadata": {
        "id": "1fdb3537"
      },
      "outputs": [],
      "source": [
        "df1=pd.read_json(\"Sports_and_Outdoors_5.json\",lines=True)\n",
        "df2=pd.read_json(\"Health_and_Personal_Care_5.json\",lines=True)\n",
        "df1[\"category\"]=\"Sports and outdoors\"\n",
        "df2[\"category\"]=\"Health and personal care\""
      ]
    },
    {
      "cell_type": "code",
      "execution_count": null,
      "id": "e880b8fd",
      "metadata": {
        "id": "e880b8fd"
      },
      "outputs": [],
      "source": [
        "final_df=pd.concat([df1,df2],axis=0)"
      ]
    },
    {
      "cell_type": "code",
      "execution_count": null,
      "id": "84c872d7",
      "metadata": {
        "id": "84c872d7",
        "outputId": "ce595fc0-63dc-44f2-a725-e976f03a025e"
      },
      "outputs": [
        {
          "data": {
            "text/html": [
              "<div>\n",
              "<style scoped>\n",
              "    .dataframe tbody tr th:only-of-type {\n",
              "        vertical-align: middle;\n",
              "    }\n",
              "\n",
              "    .dataframe tbody tr th {\n",
              "        vertical-align: top;\n",
              "    }\n",
              "\n",
              "    .dataframe thead th {\n",
              "        text-align: right;\n",
              "    }\n",
              "</style>\n",
              "<table border=\"1\" class=\"dataframe\">\n",
              "  <thead>\n",
              "    <tr style=\"text-align: right;\">\n",
              "      <th></th>\n",
              "      <th>reviewerID</th>\n",
              "      <th>asin</th>\n",
              "      <th>reviewerName</th>\n",
              "      <th>helpful</th>\n",
              "      <th>reviewText</th>\n",
              "      <th>overall</th>\n",
              "      <th>summary</th>\n",
              "      <th>unixReviewTime</th>\n",
              "      <th>reviewTime</th>\n",
              "      <th>category</th>\n",
              "    </tr>\n",
              "  </thead>\n",
              "  <tbody>\n",
              "    <tr>\n",
              "      <th>0</th>\n",
              "      <td>AIXZKN4ACSKI</td>\n",
              "      <td>1881509818</td>\n",
              "      <td>David Briner</td>\n",
              "      <td>[0, 0]</td>\n",
              "      <td>This came in on time and I am veru happy with ...</td>\n",
              "      <td>5</td>\n",
              "      <td>Woks very good</td>\n",
              "      <td>1390694400</td>\n",
              "      <td>01 26, 2014</td>\n",
              "      <td>Sports and outdoors</td>\n",
              "    </tr>\n",
              "    <tr>\n",
              "      <th>1</th>\n",
              "      <td>A1L5P841VIO02V</td>\n",
              "      <td>1881509818</td>\n",
              "      <td>Jason A. Kramer</td>\n",
              "      <td>[1, 1]</td>\n",
              "      <td>I had a factory Glock tool that I was using fo...</td>\n",
              "      <td>5</td>\n",
              "      <td>Works as well as the factory tool</td>\n",
              "      <td>1328140800</td>\n",
              "      <td>02 2, 2012</td>\n",
              "      <td>Sports and outdoors</td>\n",
              "    </tr>\n",
              "    <tr>\n",
              "      <th>2</th>\n",
              "      <td>AB2W04NI4OEAD</td>\n",
              "      <td>1881509818</td>\n",
              "      <td>J. Fernald</td>\n",
              "      <td>[2, 2]</td>\n",
              "      <td>If you don't have a 3/32 punch or would like t...</td>\n",
              "      <td>4</td>\n",
              "      <td>It's a punch, that's all.</td>\n",
              "      <td>1330387200</td>\n",
              "      <td>02 28, 2012</td>\n",
              "      <td>Sports and outdoors</td>\n",
              "    </tr>\n",
              "    <tr>\n",
              "      <th>3</th>\n",
              "      <td>A148SVSWKTJKU6</td>\n",
              "      <td>1881509818</td>\n",
              "      <td>Jusitn A. Watts \"Maverick9614\"</td>\n",
              "      <td>[0, 0]</td>\n",
              "      <td>This works no better than any 3/32 punch you w...</td>\n",
              "      <td>4</td>\n",
              "      <td>It's a punch with a Glock logo.</td>\n",
              "      <td>1328400000</td>\n",
              "      <td>02 5, 2012</td>\n",
              "      <td>Sports and outdoors</td>\n",
              "    </tr>\n",
              "    <tr>\n",
              "      <th>4</th>\n",
              "      <td>AAAWJ6LW9WMOO</td>\n",
              "      <td>1881509818</td>\n",
              "      <td>Material Man</td>\n",
              "      <td>[0, 0]</td>\n",
              "      <td>I purchased this thinking maybe I need a speci...</td>\n",
              "      <td>4</td>\n",
              "      <td>Ok,tool does what a regular punch does.</td>\n",
              "      <td>1366675200</td>\n",
              "      <td>04 23, 2013</td>\n",
              "      <td>Sports and outdoors</td>\n",
              "    </tr>\n",
              "  </tbody>\n",
              "</table>\n",
              "</div>"
            ],
            "text/plain": [
              "       reviewerID        asin                    reviewerName helpful  \\\n",
              "0    AIXZKN4ACSKI  1881509818                    David Briner  [0, 0]   \n",
              "1  A1L5P841VIO02V  1881509818                 Jason A. Kramer  [1, 1]   \n",
              "2   AB2W04NI4OEAD  1881509818                      J. Fernald  [2, 2]   \n",
              "3  A148SVSWKTJKU6  1881509818  Jusitn A. Watts \"Maverick9614\"  [0, 0]   \n",
              "4   AAAWJ6LW9WMOO  1881509818                    Material Man  [0, 0]   \n",
              "\n",
              "                                          reviewText  overall  \\\n",
              "0  This came in on time and I am veru happy with ...        5   \n",
              "1  I had a factory Glock tool that I was using fo...        5   \n",
              "2  If you don't have a 3/32 punch or would like t...        4   \n",
              "3  This works no better than any 3/32 punch you w...        4   \n",
              "4  I purchased this thinking maybe I need a speci...        4   \n",
              "\n",
              "                                   summary  unixReviewTime   reviewTime  \\\n",
              "0                           Woks very good      1390694400  01 26, 2014   \n",
              "1        Works as well as the factory tool      1328140800   02 2, 2012   \n",
              "2                It's a punch, that's all.      1330387200  02 28, 2012   \n",
              "3          It's a punch with a Glock logo.      1328400000   02 5, 2012   \n",
              "4  Ok,tool does what a regular punch does.      1366675200  04 23, 2013   \n",
              "\n",
              "              category  \n",
              "0  Sports and outdoors  \n",
              "1  Sports and outdoors  \n",
              "2  Sports and outdoors  \n",
              "3  Sports and outdoors  \n",
              "4  Sports and outdoors  "
            ]
          },
          "execution_count": 24,
          "metadata": {},
          "output_type": "execute_result"
        }
      ],
      "source": [
        "final_df.head()"
      ]
    },
    {
      "cell_type": "code",
      "execution_count": null,
      "id": "88017165",
      "metadata": {
        "id": "88017165"
      },
      "outputs": [],
      "source": [
        "final_df[\"reviewText\"] = final_df[\"reviewText\"].apply(clean)"
      ]
    },
    {
      "cell_type": "code",
      "execution_count": null,
      "id": "bc450d39",
      "metadata": {
        "id": "bc450d39"
      },
      "outputs": [],
      "source": [
        "predict_text=final_df[\"reviewText\"]"
      ]
    },
    {
      "cell_type": "code",
      "execution_count": null,
      "id": "6c7720fe",
      "metadata": {
        "id": "6c7720fe",
        "outputId": "3f2590da-5548-42b2-b6f2-f061dba3ec0d"
      },
      "outputs": [
        {
          "name": "stderr",
          "output_type": "stream",
          "text": [
            "[Parallel(n_jobs=1)]: Using backend SequentialBackend with 1 concurrent workers.\n",
            "[Parallel(n_jobs=1)]: Done   1 out of   1 | elapsed:    2.8s finished\n",
            "[Parallel(n_jobs=1)]: Using backend SequentialBackend with 1 concurrent workers.\n",
            "[Parallel(n_jobs=1)]: Done   1 out of   1 | elapsed:    3.6s finished\n",
            "[Parallel(n_jobs=1)]: Using backend SequentialBackend with 1 concurrent workers.\n",
            "[Parallel(n_jobs=1)]: Done   1 out of   1 | elapsed:    4.9s finished\n",
            "[Parallel(n_jobs=1)]: Using backend SequentialBackend with 1 concurrent workers.\n",
            "[Parallel(n_jobs=1)]: Done   1 out of   1 | elapsed:    4.9s finished\n",
            "[Parallel(n_jobs=1)]: Using backend SequentialBackend with 1 concurrent workers.\n",
            "[Parallel(n_jobs=1)]: Done   1 out of   1 | elapsed:    4.2s finished\n"
          ]
        },
        {
          "data": {
            "text/plain": [
              "OneVsRestClassifier(estimator=LogisticRegression(max_iter=200, verbose=1))"
            ]
          },
          "execution_count": 27,
          "metadata": {},
          "output_type": "execute_result"
        }
      ],
      "source": [
        "tfidf_vectorizer = TfidfVectorizer(max_df=0.8, max_features=5000)\n",
        "tfidf_vectorizer = TfidfVectorizer(max_df=0.8, max_features=5000)\n",
        "x_train = tfidf_vectorizer.fit_transform(X_train)\n",
        "x_test = tfidf_vectorizer.transform(X_test)\n",
        "lr = LogisticRegression(max_iter=200, verbose=1)\n",
        "ovr = OneVsRestClassifier(lr)\n",
        "ovr.fit(x_train, y_train)"
      ]
    },
    {
      "cell_type": "code",
      "execution_count": null,
      "id": "1df26391",
      "metadata": {
        "id": "1df26391"
      },
      "outputs": [],
      "source": [
        "y_pred = ovr.predict(tfidf_vectorizer.fit_transform(predict_text))"
      ]
    },
    {
      "cell_type": "code",
      "execution_count": null,
      "id": "3eeffe87",
      "metadata": {
        "id": "3eeffe87"
      },
      "outputs": [],
      "source": [
        "y_pred=pd.DataFrame(y_pred,columns=[\"sentiment\"])"
      ]
    },
    {
      "cell_type": "code",
      "execution_count": null,
      "id": "fbbf7c1b",
      "metadata": {
        "id": "fbbf7c1b",
        "outputId": "3a506609-f3ce-4748-9475-09e871a9e94f"
      },
      "outputs": [
        {
          "data": {
            "text/html": [
              "<div>\n",
              "<style scoped>\n",
              "    .dataframe tbody tr th:only-of-type {\n",
              "        vertical-align: middle;\n",
              "    }\n",
              "\n",
              "    .dataframe tbody tr th {\n",
              "        vertical-align: top;\n",
              "    }\n",
              "\n",
              "    .dataframe thead th {\n",
              "        text-align: right;\n",
              "    }\n",
              "</style>\n",
              "<table border=\"1\" class=\"dataframe\">\n",
              "  <thead>\n",
              "    <tr style=\"text-align: right;\">\n",
              "      <th></th>\n",
              "      <th>sentiment</th>\n",
              "    </tr>\n",
              "  </thead>\n",
              "  <tbody>\n",
              "    <tr>\n",
              "      <th>count</th>\n",
              "      <td>642692.000000</td>\n",
              "    </tr>\n",
              "    <tr>\n",
              "      <th>mean</th>\n",
              "      <td>3.536534</td>\n",
              "    </tr>\n",
              "    <tr>\n",
              "      <th>std</th>\n",
              "      <td>0.806235</td>\n",
              "    </tr>\n",
              "    <tr>\n",
              "      <th>min</th>\n",
              "      <td>1.000000</td>\n",
              "    </tr>\n",
              "    <tr>\n",
              "      <th>25%</th>\n",
              "      <td>3.000000</td>\n",
              "    </tr>\n",
              "    <tr>\n",
              "      <th>50%</th>\n",
              "      <td>3.000000</td>\n",
              "    </tr>\n",
              "    <tr>\n",
              "      <th>75%</th>\n",
              "      <td>4.000000</td>\n",
              "    </tr>\n",
              "    <tr>\n",
              "      <th>max</th>\n",
              "      <td>5.000000</td>\n",
              "    </tr>\n",
              "  </tbody>\n",
              "</table>\n",
              "</div>"
            ],
            "text/plain": [
              "           sentiment\n",
              "count  642692.000000\n",
              "mean        3.536534\n",
              "std         0.806235\n",
              "min         1.000000\n",
              "25%         3.000000\n",
              "50%         3.000000\n",
              "75%         4.000000\n",
              "max         5.000000"
            ]
          },
          "execution_count": 30,
          "metadata": {},
          "output_type": "execute_result"
        }
      ],
      "source": [
        "y_pred.describe()"
      ]
    },
    {
      "cell_type": "code",
      "execution_count": null,
      "id": "c09b545a",
      "metadata": {
        "id": "c09b545a"
      },
      "outputs": [],
      "source": [
        "final_df.reset_index(inplace=True)\n",
        "predicted_sentiment=pd.concat([final_df,y_pred],axis=1)"
      ]
    },
    {
      "cell_type": "code",
      "execution_count": null,
      "id": "2791d281",
      "metadata": {
        "id": "2791d281"
      },
      "outputs": [],
      "source": [
        "predicted_sentiment.to_csv(\"predicted_sentiment.csv\")"
      ]
    },
    {
      "cell_type": "code",
      "execution_count": null,
      "id": "e3df05ae",
      "metadata": {
        "id": "e3df05ae",
        "outputId": "b0a1b001-230b-4b44-fe01-3e8f8dc25d80"
      },
      "outputs": [
        {
          "data": {
            "text/plain": [
              "array([3, 4, 2, 5, 1])"
            ]
          },
          "execution_count": 38,
          "metadata": {},
          "output_type": "execute_result"
        }
      ],
      "source": [
        "predicted_sentiment.sentiment.unique()"
      ]
    },
    {
      "cell_type": "code",
      "execution_count": null,
      "id": "4737d037",
      "metadata": {
        "id": "4737d037"
      },
      "outputs": [],
      "source": []
    }
  ],
  "metadata": {
    "kernelspec": {
      "display_name": "Python 3 (ipykernel)",
      "language": "python",
      "name": "python3"
    },
    "language_info": {
      "codemirror_mode": {
        "name": "ipython",
        "version": 3
      },
      "file_extension": ".py",
      "mimetype": "text/x-python",
      "name": "python",
      "nbconvert_exporter": "python",
      "pygments_lexer": "ipython3",
      "version": "3.9.15"
    },
    "colab": {
      "provenance": []
    }
  },
  "nbformat": 4,
  "nbformat_minor": 5
}