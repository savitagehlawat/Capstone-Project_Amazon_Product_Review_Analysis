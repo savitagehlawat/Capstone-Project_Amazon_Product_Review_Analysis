{
  "cells": [
    {
      "cell_type": "code",
      "execution_count": null,
      "id": "90777816",
      "metadata": {
        "id": "90777816",
        "outputId": "e4b20a84-9f1c-4e89-a02e-67bd7c6c78d2"
      },
      "outputs": [
        {
          "name": "stdout",
          "output_type": "stream",
          "text": [
            "Requirement already satisfied: spacey in c:\\anaconda3\\lib\\site-packages (0.1.1)\n"
          ]
        }
      ],
      "source": [
        "! pip install spacey\n",
        "import spacy"
      ]
    },
    {
      "cell_type": "markdown",
      "id": "57a15cda",
      "metadata": {
        "id": "57a15cda"
      },
      "source": [
        "# Named Entity Recognition"
      ]
    },
    {
      "cell_type": "markdown",
      "id": "8787f3c2",
      "metadata": {
        "id": "8787f3c2"
      },
      "source": [
        "### Download pretrained model"
      ]
    },
    {
      "cell_type": "code",
      "execution_count": null,
      "id": "fbc8e0b1",
      "metadata": {
        "id": "fbc8e0b1",
        "outputId": "109b5605-0b54-4ffd-a5d2-8a076d2fb050"
      },
      "outputs": [
        {
          "name": "stdout",
          "output_type": "stream",
          "text": [
            "Collecting en-core-web-sm==3.4.1\n",
            "  Downloading https://github.com/explosion/spacy-models/releases/download/en_core_web_sm-3.4.1/en_core_web_sm-3.4.1-py3-none-any.whl (12.8 MB)\n",
            "     ---------------------------------------- 12.8/12.8 MB 5.0 MB/s eta 0:00:00\n",
            "Requirement already satisfied: spacy<3.5.0,>=3.4.0 in c:\\anaconda3\\lib\\site-packages (from en-core-web-sm==3.4.1) (3.4.3)\n",
            "Requirement already satisfied: langcodes<4.0.0,>=3.2.0 in c:\\anaconda3\\lib\\site-packages (from spacy<3.5.0,>=3.4.0->en-core-web-sm==3.4.1) (3.3.0)\n",
            "Requirement already satisfied: typer<0.8.0,>=0.3.0 in c:\\anaconda3\\lib\\site-packages (from spacy<3.5.0,>=3.4.0->en-core-web-sm==3.4.1) (0.7.0)\n",
            "Requirement already satisfied: spacy-legacy<3.1.0,>=3.0.10 in c:\\anaconda3\\lib\\site-packages (from spacy<3.5.0,>=3.4.0->en-core-web-sm==3.4.1) (3.0.10)\n",
            "Requirement already satisfied: tqdm<5.0.0,>=4.38.0 in c:\\anaconda3\\lib\\site-packages (from spacy<3.5.0,>=3.4.0->en-core-web-sm==3.4.1) (4.64.1)\n",
            "Requirement already satisfied: pydantic!=1.8,!=1.8.1,<1.11.0,>=1.7.4 in c:\\anaconda3\\lib\\site-packages (from spacy<3.5.0,>=3.4.0->en-core-web-sm==3.4.1) (1.10.2)\n",
            "Requirement already satisfied: thinc<8.2.0,>=8.1.0 in c:\\anaconda3\\lib\\site-packages (from spacy<3.5.0,>=3.4.0->en-core-web-sm==3.4.1) (8.1.5)\n",
            "Requirement already satisfied: numpy>=1.15.0 in c:\\anaconda3\\lib\\site-packages (from spacy<3.5.0,>=3.4.0->en-core-web-sm==3.4.1) (1.21.6)\n",
            "Requirement already satisfied: spacy-loggers<2.0.0,>=1.0.0 in c:\\anaconda3\\lib\\site-packages (from spacy<3.5.0,>=3.4.0->en-core-web-sm==3.4.1) (1.0.3)\n",
            "Requirement already satisfied: wasabi<1.1.0,>=0.9.1 in c:\\anaconda3\\lib\\site-packages (from spacy<3.5.0,>=3.4.0->en-core-web-sm==3.4.1) (0.10.1)\n",
            "Requirement already satisfied: catalogue<2.1.0,>=2.0.6 in c:\\anaconda3\\lib\\site-packages (from spacy<3.5.0,>=3.4.0->en-core-web-sm==3.4.1) (2.0.8)\n",
            "Requirement already satisfied: requests<3.0.0,>=2.13.0 in c:\\anaconda3\\lib\\site-packages (from spacy<3.5.0,>=3.4.0->en-core-web-sm==3.4.1) (2.28.1)\n",
            "Requirement already satisfied: srsly<3.0.0,>=2.4.3 in c:\\anaconda3\\lib\\site-packages (from spacy<3.5.0,>=3.4.0->en-core-web-sm==3.4.1) (2.4.5)\n",
            "Requirement already satisfied: murmurhash<1.1.0,>=0.28.0 in c:\\anaconda3\\lib\\site-packages (from spacy<3.5.0,>=3.4.0->en-core-web-sm==3.4.1) (1.0.9)\n",
            "Requirement already satisfied: packaging>=20.0 in c:\\anaconda3\\lib\\site-packages (from spacy<3.5.0,>=3.4.0->en-core-web-sm==3.4.1) (22.0)\n",
            "Requirement already satisfied: setuptools in c:\\anaconda3\\lib\\site-packages (from spacy<3.5.0,>=3.4.0->en-core-web-sm==3.4.1) (65.5.1)\n",
            "Requirement already satisfied: cymem<2.1.0,>=2.0.2 in c:\\anaconda3\\lib\\site-packages (from spacy<3.5.0,>=3.4.0->en-core-web-sm==3.4.1) (2.0.7)\n",
            "Requirement already satisfied: pathy>=0.3.5 in c:\\anaconda3\\lib\\site-packages (from spacy<3.5.0,>=3.4.0->en-core-web-sm==3.4.1) (0.10.0)\n",
            "Requirement already satisfied: preshed<3.1.0,>=3.0.2 in c:\\anaconda3\\lib\\site-packages (from spacy<3.5.0,>=3.4.0->en-core-web-sm==3.4.1) (3.0.8)\n",
            "Requirement already satisfied: jinja2 in c:\\anaconda3\\lib\\site-packages (from spacy<3.5.0,>=3.4.0->en-core-web-sm==3.4.1) (3.1.2)\n",
            "Requirement already satisfied: smart-open<6.0.0,>=5.2.1 in c:\\anaconda3\\lib\\site-packages (from pathy>=0.3.5->spacy<3.5.0,>=3.4.0->en-core-web-sm==3.4.1) (5.2.1)\n",
            "Requirement already satisfied: typing-extensions>=4.1.0 in c:\\anaconda3\\lib\\site-packages (from pydantic!=1.8,!=1.8.1,<1.11.0,>=1.7.4->spacy<3.5.0,>=3.4.0->en-core-web-sm==3.4.1) (4.4.0)\n",
            "Requirement already satisfied: charset-normalizer<3,>=2 in c:\\anaconda3\\lib\\site-packages (from requests<3.0.0,>=2.13.0->spacy<3.5.0,>=3.4.0->en-core-web-sm==3.4.1) (2.1.1)\n",
            "Requirement already satisfied: certifi>=2017.4.17 in c:\\anaconda3\\lib\\site-packages (from requests<3.0.0,>=2.13.0->spacy<3.5.0,>=3.4.0->en-core-web-sm==3.4.1) (2022.12.7)\n",
            "Requirement already satisfied: idna<4,>=2.5 in c:\\anaconda3\\lib\\site-packages (from requests<3.0.0,>=2.13.0->spacy<3.5.0,>=3.4.0->en-core-web-sm==3.4.1) (3.4)\n",
            "Requirement already satisfied: urllib3<1.27,>=1.21.1 in c:\\anaconda3\\lib\\site-packages (from requests<3.0.0,>=2.13.0->spacy<3.5.0,>=3.4.0->en-core-web-sm==3.4.1) (1.26.13)\n",
            "Requirement already satisfied: confection<1.0.0,>=0.0.1 in c:\\anaconda3\\lib\\site-packages (from thinc<8.2.0,>=8.1.0->spacy<3.5.0,>=3.4.0->en-core-web-sm==3.4.1) (0.0.3)\n",
            "Requirement already satisfied: blis<0.8.0,>=0.7.8 in c:\\anaconda3\\lib\\site-packages (from thinc<8.2.0,>=8.1.0->spacy<3.5.0,>=3.4.0->en-core-web-sm==3.4.1) (0.7.9)\n",
            "Requirement already satisfied: colorama in c:\\anaconda3\\lib\\site-packages (from tqdm<5.0.0,>=4.38.0->spacy<3.5.0,>=3.4.0->en-core-web-sm==3.4.1) (0.4.6)\n",
            "Requirement already satisfied: click<9.0.0,>=7.1.1 in c:\\anaconda3\\lib\\site-packages (from typer<0.8.0,>=0.3.0->spacy<3.5.0,>=3.4.0->en-core-web-sm==3.4.1) (8.1.3)\n",
            "Requirement already satisfied: MarkupSafe>=2.0 in c:\\anaconda3\\lib\\site-packages (from jinja2->spacy<3.5.0,>=3.4.0->en-core-web-sm==3.4.1) (2.1.1)\n",
            "[+] Download and installation successful\n",
            "You can now load the package via spacy.load('en_core_web_sm')\n"
          ]
        }
      ],
      "source": [
        "!python -m spacy download en_core_web_sm"
      ]
    },
    {
      "cell_type": "markdown",
      "id": "b0630fb9",
      "metadata": {
        "id": "b0630fb9"
      },
      "source": [
        "### Loading model"
      ]
    },
    {
      "cell_type": "code",
      "execution_count": null,
      "id": "8730aeab",
      "metadata": {
        "id": "8730aeab",
        "outputId": "317fe242-18ea-4b7c-9653-556b3b94bb7c"
      },
      "outputs": [
        {
          "data": {
            "text/html": [
              "<span class=\"tex2jax_ignore\"><div class=\"entities\" style=\"line-height: 2.5; direction: ltr\">Saved my thumbs!  \n",
              "<mark class=\"entity\" style=\"background: #feca74; padding: 0.45em 0.6em; margin: 0 0.25em; line-height: 1; border-radius: 0.35em;\">\n",
              "    Mag\n",
              "    <span style=\"font-size: 0.8em; font-weight: bold; line-height: 1; border-radius: 0.35em; vertical-align: middle; margin-left: 0.5rem\">GPE</span>\n",
              "</mark>\n",
              " loader devices aren't anything really new, but this one makes loading a pistol mag so much faster / easier.  I haven't figured out how to UNload yet, but no big deal.  I've seen many other shooters with this device and they swear by it.  Now that I have one of my own, I swear by them too.GET \n",
              "<mark class=\"entity\" style=\"background: #e4e7d2; padding: 0.45em 0.6em; margin: 0 0.25em; line-height: 1; border-radius: 0.35em;\">\n",
              "    ONE\n",
              "    <span style=\"font-size: 0.8em; font-weight: bold; line-height: 1; border-radius: 0.35em; vertical-align: middle; margin-left: 0.5rem\">CARDINAL</span>\n",
              "</mark>\n",
              "...RECOMMENDED!  YOU WON'T BE SORRY!PEACE!</div></span>"
            ],
            "text/plain": [
              "<IPython.core.display.HTML object>"
            ]
          },
          "metadata": {},
          "output_type": "display_data"
        }
      ],
      "source": [
        "text=\"Saved my thumbs!  Mag loader devices aren't anything really new, but this one makes loading a pistol mag so much faster / easier.  I haven't figured out how to UNload yet, but no big deal.  I've seen many other shooters with this device and they swear by it.  Now that I have one of my own, I swear by them too.GET ONE...RECOMMENDED!  YOU WON'T BE SORRY!PEACE!\"\n",
        "ner=spacy.load(\"en_core_web_sm\")\n",
        "doc=ner(text)\n",
        "from spacy import displacy\n",
        "displacy.render(doc,style='ent', jupyter=True)"
      ]
    },
    {
      "cell_type": "markdown",
      "id": "162530a2",
      "metadata": {
        "id": "162530a2"
      },
      "source": [
        "As we can see above the pretrained model above does not recognise Dr bronner as a product even though the model recognises other entities"
      ]
    },
    {
      "cell_type": "markdown",
      "id": "367113ba",
      "metadata": {
        "id": "367113ba"
      },
      "source": [
        "### Creating training sentenses for NER"
      ]
    },
    {
      "cell_type": "code",
      "execution_count": null,
      "id": "2bf7fef7",
      "metadata": {
        "id": "2bf7fef7"
      },
      "outputs": [],
      "source": [
        "train_data =[ (\"Saved my thumbs!  Mag loader devices aren't anything really new, but this one makes loading a pistol mag so much faster / easier.  I haven't figured out how to UNload yet, but no big deal.  I've seen many other shooters with this device and they swear by it.  Now that I have one of my own, I swear by them too.GET ONE...RECOMMENDED!  YOU WON'T BE SORRY!PEACE!\",{\"entities\":[(18,29,\"Product\")]}),\n",
        "              (\"If you don't use one of these mag loaders, you need to get one NOW.  Watch some of the youtube videos on using them and you will see how easy it is to load the toughest magazines to capacity.  I have one for each of the mag sizes I own and even bought my wife one of her own (a pink one :-) so that we are not bickering over one at the range.  SO easy to use and makes reloading a mag fast.  No more sore thumbs.\",{\"entities\":[(30,41,\"Product\")]}),\n",
        "              (\"These will not eliminate all the sounds like the bigger earmuffs.  But when used outdoors, its just right.  When using it in doors, the concussion may be a little overwhelming.  My trick is to put ear plugs then the ear muffs.\",{\"entities\":[(56,64,\"Product\")]}),\n",
        "              (\"Being one of the lower cost electronic earmuffs I was a little skeptical at first but I went ahead a ordered them since I wasnt going to shell out a few hundred dollars for a pair. Once I received them I was pretty impressed with the build quality and after using them I was even more impressed. The volume control is very easy to use. You would have no problem hearing an instructor at a class with these. Once a gun goes off they will act like standard earmuffs then go right back to letting you hear everything around you. I highly recommend these to anyone looking for a pair of quality earmuffs and dont want to break the bank!\",{\"entities\":[(39,47,\"Product\")]}),\n",
        "              (\"No more lumpy protein shakes!  This blenderbottle enables me to actually enjoy these shakes, and it's pretty easy to hand-wash to boot!Excellent product, and particularly strong value given the low price :)\",{\"entities\":[(36,49,\"Product\")]}),\n",
        "              (\"My cousin uses the BlenderBottle and told me that it was worth the purchase so I listened and I am glad I did. It's built very well, not cheaply made with flimsy plastic or anything. The metal ball inside helps stir all of the powder around with your almond milk or whatever you mix it with and voila!\",{\"entities\":[(19,32,\"Product\")]}),\n",
        "              (\"I remember many years ago, my ex wife always wanted to buy Tide, I thought she was being scammed by commercialism. I was wrong! Tide is expensive, because it works, and works well.\",{\"entities\":[(128,132,\"Product\")]}),\n",
        "              (\"Tide is my favorite brand. In comparison to other brands, it has the best smell in my opinion. It does a good job of cleaning, whitening, refreshing, and softening. It washes my clothes well. Leaves the clothes soft-to-the-touch and pleasant to wear.\",{\"entities\":[(0,4,\"Product\")]}),\n",
        "              (\"I bought this protein powder (Vanilla Ice Cream flavor) after my personal trainer suggested I start taking protein shakes. The protein powder that he wanted me to buy at the gym was way too pricey for my budget (Xsport brand).\",{\"entities\":[(14,28,\"Product\")]}),\n",
        "              (\"Looking for another flavor of whey isolate protein powder, and reading the reviews for this version, I made the mistake of buying a five pound container of Rocky Road.  This was a huge mistake, as no amount of milk, yogurt, or fruit can mask the chemical taste the powder adds.  The chocolate flavor is completely missing; Optimum's attempts to create the flavor of nuts and marshmallow is an abject failure, and this is a non- returnable item, something I wish I had known BEFORE I purchased this. The entire five pounds is going in the garbage!  What a waste of money!\",{\"entities\":[(43,57,\"Product\")]}),\n",
        "              (\"I have been using 100% whey by ON for a few years now and it's always my go to choice. High quality protein, mixes well and doesnt taste as chalky as other protein powders\",{\"entities\":[(156,171,\"Product\")]}),\n",
        "              (\"100 ft shank of paracord, kinda hard to screw that up, huh?Outstanding product, great to have around, good buy at this price..\",{\"entities\":[(16,24,\"Product\")]}),\n",
        "              (\"It is black, it is paracord... exactly as the title says!Worked great for making bracelets and a couple of knife lanyards.\",{\"entities\":[(19,27,\"Product\")]}),\n",
        "              (\"I have been given the opportunity to try Secret's new clinical strength deodorants over the past few months\",{\"entities\":[(72,82,\"Product\")]}),\n",
        "              (\"My only objection to this product is the price. It is definitely one of the better deodorants on the market, and one that another family member finds especially effective --- it's the only thing she will use.I'm very pleased with the product, and happy to have been able to get it through Amazon's Vine program. Thank you!\",{\"entities\":[(83,93,\"Product\")]}),\n",
        "              (\"After replacing my old bathroom scale with this sleek, modern, easy-to-read scale, I couldn't believe my eyes when I stepped on and weighed almost eight pounds heavier than my old scale.  So, I put it to the litmus test and placed my two eight-pound hand weights on there, and it registered at 15.6 pounds so if anything, this scale is a fraction of weight under.  The price is right too!  Good scale!\",{\"entities\":[(23,37,\"Product\")]}),\n",
        "              (\"I'm happy with this bathroom scale. You could probably find a more accruate bathroom scale, but not at this price. It's a good buy.\",{\"entities\":[(20,34,\"Product\")]}),\n",
        "              (\"This is your basic magnesium fire starter.  Works well.  Exactly what you'd expect out of a mag starter.  Would buy again.\",{\"entities\":[(29,41,\"Product\")]}),\n",
        "              (\"I purchased this product the Magnesium Fire Starter and the Light My Fire Swedish Fire Steel 2.0 Army.  I will give you my experience testing both products.Magnesium Fire Starter:I had problems with this product initially, because there is a very thick protective coating covering the flint rod.  It took a little effort to scrape off the coating.  You will not get any sparks until this coating is completely removed.  Using the included striker/saw, I was able to produce a reasonable amount of sparks.  Surprisingly, I was able to generate a greater volume of sparks using the striker included with the Light My Fire Swedish Fire Steel 2.0.  The Magnesium Fire Starter requires a little preparation and practice to be reliable.Light My Fire Swedish Fire Steel 2.0 Army:The Swedish Fire Steel is ready to go right out of the package.  It generates a shower of hot potent sparks with little effort.  If you need to get a fire started in a hurry this is the better choice when good tender is available.  It cost a little more, but it creates a much hotter shower of sparks and makes quick work of starting a fire\",{\"entities\":[(39,51,\"Product\")]}),\n",
        "              (\"This trimmer just works. It gets all the hairs. I much prefer this style of trimmer to some of the others on the market.\",{\"entities\":[(5,12,\"Product\")]}),\n",
        "              (\"Initial Impression.....Had an older name brand trimmer that was worn out and a new brand name trimmer that I just opened.  Both were bargain priced items with plastic blades.  I used the Panasonic IMMEDIATELY after using the new bargain priced brand name product and the Panasonic clearly was cutting additional hails that the other unit had missed.  I will probably order a second one as a spare for later use.\",{\"entities\":[(47,54,\"Product\")]}),\n",
        "             \n",
        "             \n",
        "             \n",
        "             \n",
        "             \n",
        "            ]"
      ]
    },
    {
      "cell_type": "code",
      "execution_count": null,
      "id": "10d5c70e",
      "metadata": {
        "id": "10d5c70e"
      },
      "outputs": [],
      "source": [
        "# (\"\",{\"entities\":[()]}),"
      ]
    },
    {
      "cell_type": "code",
      "execution_count": null,
      "id": "bcee90f0",
      "metadata": {
        "id": "bcee90f0",
        "outputId": "29191013-a15e-4d59-95bd-b9288ef8ccc4"
      },
      "outputs": [
        {
          "name": "stderr",
          "output_type": "stream",
          "text": [
            "100%|██████████| 21/21 [00:00<00:00, 621.20it/s]\n"
          ]
        }
      ],
      "source": [
        "import pandas as pd\n",
        "import os\n",
        "from tqdm import tqdm\n",
        "import spacy\n",
        "from spacy.tokens import DocBin\n",
        "\n",
        "#nlp = spacy.blank(\"en\") # load a new spacy model\n",
        "nlp = spacy.load(\"en_core_web_sm\") # load other spacy model\n",
        "\n",
        "db = DocBin() # create a DocBin object\n",
        "\n",
        "for text, annot in tqdm(train_data): # data in previous format\n",
        "    doc = nlp.make_doc(text) # create doc object from text\n",
        "    ents = []\n",
        "    for start, end, label in annot[\"entities\"]: # add character indexes\n",
        "        span = doc.char_span(start, end, label=label, alignment_mode=\"contract\")\n",
        "        if span is None:\n",
        "            print(\"Skipping entity\")\n",
        "        else:\n",
        "            ents.append(span)\n",
        "    doc.ents = ents # label the text with the ents\n",
        "    db.add(doc)\n",
        "\n",
        "os.chdir(r'C:\\ner')\n",
        "db.to_disk(\"./train.spacy\") # save the docbin object"
      ]
    },
    {
      "cell_type": "code",
      "execution_count": null,
      "id": "1f23443a",
      "metadata": {
        "id": "1f23443a"
      },
      "outputs": [],
      "source": [
        "# python -m spacy init fill-config base_config.cfg config.cfg    # Run in command prompt to fill in config file fromv https://spacy.io/usage/training"
      ]
    },
    {
      "cell_type": "code",
      "execution_count": null,
      "id": "2cab3197",
      "metadata": {
        "id": "2cab3197"
      },
      "outputs": [],
      "source": [
        "# python -m spacy train config.cfg --output ./output --paths.train ./train.spacy --paths.dev ./train.spacy # Run in command prompt to train model on train data"
      ]
    },
    {
      "cell_type": "code",
      "execution_count": null,
      "id": "e260ac56",
      "metadata": {
        "id": "e260ac56"
      },
      "outputs": [],
      "source": [
        "def ner(data):\n",
        "    ner = spacy.load(r\".\\output\\model-best\") \n",
        "    doc = ner(data) \n",
        "    spacy.displacy.render(doc, style=\"ent\", jupyter=True) "
      ]
    },
    {
      "cell_type": "code",
      "execution_count": null,
      "id": "f3cb6cbd",
      "metadata": {
        "id": "f3cb6cbd"
      },
      "outputs": [],
      "source": [
        "dict1={\"B0037KMI0U\":\"I have an 18 year old pampered cat...who is earning her nickname of stinky I cover all her favorite places to sleep with throw blankets and I'm constantly washing them. This Tide Product liquid with Spring and Renewal Fabreze Freshness is perfect for cleaning her blankets and taking care of the aroma problems.Any laundry that consists of tough stuff gets washed in this Tide Product liquid. Beach blankets, car washing towels, gardening gloves, etc. get the Tide treatment. They come out clean and springy fresh. Since I garden every day I have clothes that get mighty dirty while spreading the horse manure, and a more delicate detergent just doesnt quite do the job. Tide for the tough stuff! This 92 oz. container does 48 loads, and thats a lot of kitty blankies.\",\n",
        "       \"B0010JLMO8\":\"This is my second BlenderBottle Product . I lost the steel ball in my last bottle but continued to use it for quite a while. The moment I received my second bottle, I noticed a significant improvement in the consistency of my shake. I blend a scoop of protein powder Product and NoXplode with the container filled half way with water.With the steel ball, it takes less then 15 seconds (as opposed to 30 seconds without) to create a smooth and creamy shake. The bottle is very easy to clean up and I use it at least 5 days a week. Convenient for making my pre-workout shake right at my office cubicle before hitting the gym during my lunch break!Highly recommended.\",\n",
        "       \"B001T7QJ9O\":\"Used at an indoor range the other day. Worked great and could still hear conversations. Until another shooter in the lane next to me started shooting a magnum. It was too much, I need to put on ear plugs under the earmuffs Product .\",\n",
        "       \"B001HBHNHE\":\"If you don't use one of these mag loaders Product , you need to get one NOW. Watch some of the youtube videos on using them and you will see how easy it is to load the toughest magazines to capacity. I have one for each of the mag sizes I own and even bought my wife one of her own (a pink one :-) so that we are not bickering over one at the range.\",\n",
        "       \"B000GIPJY8\":\"I bought this protein powder Product (Vanilla Ice Cream flavor) after my personal trainer suggested I start taking protein shakes. The protein powder that he wanted me to buy at the gym was way too pricey for my budget (Xsport brand). So I bought this as an alternative because it had a similar composition. It is low on fat and carbs while still giving a high dose of protein.I usually mix with milk (as I don't currently have a blender) and it mixes pretty well but sometimes still get a few chunks. It has also taken me a while to get used to since I have never eaten protein shakes before, which also means I can't compare it to other products. The flavor overall is fairly good and it is reminiscent of cake mix. It tastes a lot better when I make it in a smoothie with added fruit, ice, and other mix-ins; most likely because it hid the flavor better (I use The Abs Diet recipes).I found it is a great snack for me between meals or for breakfast or after workouts. It keeps me full but it does leave me feel sort of bloated after drinking one.Buying it in a larger quantity means getting a better deal. So it's a good deal for what I think is a little higher quality protein powder.\",\n",
        "       \"B000S5ODN2\":\"The 550 paracord Product was delivered on time and as promised. I find uses for this stuff every day and carry some in my tool box, truck, brief case, and tackle box. It's kind of like the duct tape of ropes!\",\n",
        "       \"B001KXZ808\":\"After replacing my old bathroom scale Product with this sleek, modern, easy-to-read scale, I couldn't believe my eyes when I stepped on and weighed almost eight pounds heavier than my old scale. So, I put it to the litmus test and placed my two eight-pound hand weights on there, and it registered at 15.6 pounds so if anything, this scale is a fraction of weight under. The price is right too! Good scale!\",\n",
        "       \"B0010O748Q\":\"I purchased this product the Magnesium Fire Starter Product and the Light My Fire Swedish Fire Steel 2.0 Army. I will give you my experience testing both products.Magnesium Fire Starter:I had problems with this product initially, because there is a very thick protective coating covering the flint rod. It took a little effort to scrape off the coating. You will not get any sparks until this coating is completely removed. Using the included striker/saw, I was able to produce a reasonable amount of sparks. Surprisingly, I was able to generate a greater volume of sparks using the striker included with the Light My Fire Swedish Fire Steel 2.0. The Magnesium Fire Starter requires a little preparation and practice to be reliable.Light My Fire Swedish Fire Steel 2.0 Army:The Swedish Fire Steel is ready to go right out of the package. It generates a shower of hot potent sparks with little effort. If you need to get a fire started in a hurry this is the better choice when good tender is available. It cost a little more, but it creates a much hotter shower of sparks and makes quick work of starting a fire.Test Conditions:My test consisted of starting a fire from material available on a beach in Florida. I gathered relatively dry tender that had fallen from palm trees. The tender was a little thicker then I would prefer, but that is what was available at the time. I tried both products and neither would create a fire from the thick tender with sparks alone. Then I created a few magnesium shavings on the palm tender with the Magnesium Fire Starter Product . The spark from the Magnesium Fire Starter Product was hot enough to ignite the magnesium shavings, but did not ignite the palm tender. The hotter spark from the Light My Fire Swedish Fire Steel ignited the magnesium shavings and ignited the palm tender resulting in combustion very quickly.Conclusion:I prefer the Light My Fire Swedish Fire Steel 2.0 Army for most applications - 99% of the time. If you need to start a fire with damp tender, the Magnesium Fire Starter Product will be a handy addition to the party. Being able to create magnesium shavings with the saw is a handy feature in extreme situations\",\n",
        "       \"B0049LUI9O\":\"Before receiving the Panasonic ER-GN30-K Vortex Wet/dry Nose and Facial Hair Trimmer Product ER-GN30-K, I was using the bulky Panasonic ER-411. The ER-GN30-K is a vast improvement, especially with the dual-edge blade that cuts nasal and facial hairs that now enter the trimmer not only the sides but also the top. As the literature indicates, it is perfect for trimming individual stray hairs on the eyebrows or facial hair. The new Vortex Cleaning System is easy to use by running the trimmer in water it thoroughly cleans the trimmer head. The trimmer is lighter than the E411 with a new ergonomic design, curved, hypo-allergenic stainless steel blades, plus wet-dry operation. It takes AA batteries (NOT INCLUDED?) Highly recommended\",\n",
        "       \"B001F51VRK\":\"I have been given the opportunity to try Secret's new clinical strength deodorants Product over the past few months, products which I would not have paid the additional funds to try out. I have been very pleased with all of them, including the marathon fresh or sport version. All of the clinical strength advanced deodorants have an unusual consistency, not like their other products I have always used. However, one of the things I really like about them is the fact they do not ball up or leave streaks in my shirts. They seem to absorb well and the protection really seems to hold up all the way around.Many times I believe manufacturer's create new and improved products which really are not much different than their predecessors and use it to inflate their prices. However, this is one of the few times I believe that is not entirely the case. Yes, I think the clinical strenth line is over-priced but it is definitely a vast improvement over previous types of Secret deodorants Product I have used over the years.\"  \n",
        "}"
      ]
    },
    {
      "cell_type": "code",
      "execution_count": null,
      "id": "b4fa4661",
      "metadata": {
        "id": "b4fa4661",
        "outputId": "a2e71f51-c1f8-477d-9dc5-f0b79f290481"
      },
      "outputs": [
        {
          "name": "stdout",
          "output_type": "stream",
          "text": [
            "Product id : B0037KMI0U\n"
          ]
        },
        {
          "data": {
            "text/html": [
              "<span class=\"tex2jax_ignore\"><div class=\"entities\" style=\"line-height: 2.5; direction: ltr\">I have an 18 year old pampered cat...who is earning her nickname of stinky I cover all her favorite places to sleep with throw blankets and I'm constantly washing them. This \n",
              "<mark class=\"entity\" style=\"background: #bfeeb7; padding: 0.45em 0.6em; margin: 0 0.25em; line-height: 1; border-radius: 0.35em;\">\n",
              "    Tide\n",
              "    <span style=\"font-size: 0.8em; font-weight: bold; line-height: 1; border-radius: 0.35em; vertical-align: middle; margin-left: 0.5rem\">Product</span>\n",
              "</mark>\n",
              " Product liquid with Spring and Renewal Fabreze Freshness is perfect for cleaning her blankets and taking care of the aroma problems.Any laundry that consists of tough stuff gets washed in this \n",
              "<mark class=\"entity\" style=\"background: #bfeeb7; padding: 0.45em 0.6em; margin: 0 0.25em; line-height: 1; border-radius: 0.35em;\">\n",
              "    Tide\n",
              "    <span style=\"font-size: 0.8em; font-weight: bold; line-height: 1; border-radius: 0.35em; vertical-align: middle; margin-left: 0.5rem\">Product</span>\n",
              "</mark>\n",
              " Product liquid. Beach blankets, car washing towels, gardening gloves, etc. get the Tide treatment. They come out clean and springy fresh. Since I garden every day I have clothes that get mighty dirty while spreading the horse manure, and a more delicate detergent just doesnt quite do the job. Tide for the tough stuff! This 92 oz. container does 48 loads, and thats a lot of kitty blankies.</div></span>"
            ],
            "text/plain": [
              "<IPython.core.display.HTML object>"
            ]
          },
          "metadata": {},
          "output_type": "display_data"
        },
        {
          "name": "stdout",
          "output_type": "stream",
          "text": [
            "None\n",
            "Product id : B0010JLMO8\n"
          ]
        },
        {
          "data": {
            "text/html": [
              "<span class=\"tex2jax_ignore\"><div class=\"entities\" style=\"line-height: 2.5; direction: ltr\">This is my second \n",
              "<mark class=\"entity\" style=\"background: #bfeeb7; padding: 0.45em 0.6em; margin: 0 0.25em; line-height: 1; border-radius: 0.35em;\">\n",
              "    BlenderBottle\n",
              "    <span style=\"font-size: 0.8em; font-weight: bold; line-height: 1; border-radius: 0.35em; vertical-align: middle; margin-left: 0.5rem\">Product</span>\n",
              "</mark>\n",
              " Product . I lost the steel ball in my last bottle but continued to use it for quite a while. The moment I received my second bottle, I noticed a significant improvement in the consistency of my shake. I blend a scoop of \n",
              "<mark class=\"entity\" style=\"background: #bfeeb7; padding: 0.45em 0.6em; margin: 0 0.25em; line-height: 1; border-radius: 0.35em;\">\n",
              "    protein powder\n",
              "    <span style=\"font-size: 0.8em; font-weight: bold; line-height: 1; border-radius: 0.35em; vertical-align: middle; margin-left: 0.5rem\">Product</span>\n",
              "</mark>\n",
              " Product and NoXplode with the container filled half way with water.With the steel ball, it takes less then 15 seconds (as opposed to 30 seconds without) to create a smooth and creamy shake. The bottle is very easy to clean up and I use it at least 5 days a week. Convenient for making my pre-workout shake right at my office cubicle before hitting the gym during my lunch break!Highly recommended.</div></span>"
            ],
            "text/plain": [
              "<IPython.core.display.HTML object>"
            ]
          },
          "metadata": {},
          "output_type": "display_data"
        },
        {
          "name": "stdout",
          "output_type": "stream",
          "text": [
            "None\n",
            "Product id : B001T7QJ9O\n"
          ]
        },
        {
          "name": "stderr",
          "output_type": "stream",
          "text": [
            "C:\\anaconda3\\lib\\site-packages\\spacy\\displacy\\__init__.py:206: UserWarning: [W006] No entities to visualize found in Doc object. If this is surprising to you, make sure the Doc was processed using a model that supports named entity recognition, and check the `doc.ents` property manually if necessary.\n",
            "  warnings.warn(Warnings.W006)\n"
          ]
        },
        {
          "data": {
            "text/html": [
              "<span class=\"tex2jax_ignore\"><div class=\"entities\" style=\"line-height: 2.5; direction: ltr\">Used at an indoor range the other day. Worked great and could still hear conversations. Until another shooter in the lane next to me started shooting a magnum. It was too much, I need to put on ear plugs under the earmuffs Product .</div></span>"
            ],
            "text/plain": [
              "<IPython.core.display.HTML object>"
            ]
          },
          "metadata": {},
          "output_type": "display_data"
        },
        {
          "name": "stdout",
          "output_type": "stream",
          "text": [
            "None\n",
            "Product id : B001HBHNHE\n"
          ]
        },
        {
          "data": {
            "text/html": [
              "<span class=\"tex2jax_ignore\"><div class=\"entities\" style=\"line-height: 2.5; direction: ltr\">If you don't use one of these \n",
              "<mark class=\"entity\" style=\"background: #bfeeb7; padding: 0.45em 0.6em; margin: 0 0.25em; line-height: 1; border-radius: 0.35em;\">\n",
              "    mag loaders\n",
              "    <span style=\"font-size: 0.8em; font-weight: bold; line-height: 1; border-radius: 0.35em; vertical-align: middle; margin-left: 0.5rem\">Product</span>\n",
              "</mark>\n",
              " Product , you need to get one NOW. Watch some of the youtube videos on using them and you will see how easy it is to load the toughest magazines to capacity. I have one for each of the mag sizes I own and even bought my wife one of her own (a pink one :-) so that we are not bickering over one at the range.</div></span>"
            ],
            "text/plain": [
              "<IPython.core.display.HTML object>"
            ]
          },
          "metadata": {},
          "output_type": "display_data"
        },
        {
          "name": "stdout",
          "output_type": "stream",
          "text": [
            "None\n",
            "Product id : B000GIPJY8\n"
          ]
        },
        {
          "data": {
            "text/html": [
              "<span class=\"tex2jax_ignore\"><div class=\"entities\" style=\"line-height: 2.5; direction: ltr\">I bought this \n",
              "<mark class=\"entity\" style=\"background: #bfeeb7; padding: 0.45em 0.6em; margin: 0 0.25em; line-height: 1; border-radius: 0.35em;\">\n",
              "    protein powder\n",
              "    <span style=\"font-size: 0.8em; font-weight: bold; line-height: 1; border-radius: 0.35em; vertical-align: middle; margin-left: 0.5rem\">Product</span>\n",
              "</mark>\n",
              " Product (Vanilla Ice Cream flavor) after my personal trainer suggested I start taking protein shakes. The protein powder that he wanted me to buy at the gym was way too pricey for my budget (Xsport brand). So I bought this as an alternative because it had a similar composition. It is low on fat and carbs while still giving a high dose of protein.I usually mix with milk (as I don't currently have a blender) and it mixes pretty well but sometimes still get a few chunks. It has also taken me a while to get used to since I have never eaten protein shakes before, which also means I can't compare it to other products. The flavor overall is fairly good and it is reminiscent of cake mix. It tastes a lot better when I make it in a smoothie with added fruit, ice, and other mix-ins; most likely because it hid the flavor better (I use The Abs Diet recipes).I found it is a great snack for me between meals or for breakfast or after workouts. It keeps me full but it does leave me feel sort of bloated after drinking one.Buying it in a larger quantity means getting a better deal. So it's a good deal for what I think is a little higher quality protein powder.</div></span>"
            ],
            "text/plain": [
              "<IPython.core.display.HTML object>"
            ]
          },
          "metadata": {},
          "output_type": "display_data"
        },
        {
          "name": "stdout",
          "output_type": "stream",
          "text": [
            "None\n",
            "Product id : B000S5ODN2\n"
          ]
        },
        {
          "data": {
            "text/html": [
              "<span class=\"tex2jax_ignore\"><div class=\"entities\" style=\"line-height: 2.5; direction: ltr\">The 550 \n",
              "<mark class=\"entity\" style=\"background: #bfeeb7; padding: 0.45em 0.6em; margin: 0 0.25em; line-height: 1; border-radius: 0.35em;\">\n",
              "    paracord\n",
              "    <span style=\"font-size: 0.8em; font-weight: bold; line-height: 1; border-radius: 0.35em; vertical-align: middle; margin-left: 0.5rem\">Product</span>\n",
              "</mark>\n",
              " Product was delivered on time and as promised. I find uses for this stuff every day and carry some in my tool box, truck, brief case, and tackle box. It's kind of like the duct tape of ropes!</div></span>"
            ],
            "text/plain": [
              "<IPython.core.display.HTML object>"
            ]
          },
          "metadata": {},
          "output_type": "display_data"
        },
        {
          "name": "stdout",
          "output_type": "stream",
          "text": [
            "None\n",
            "Product id : B001KXZ808\n"
          ]
        },
        {
          "data": {
            "text/html": [
              "<span class=\"tex2jax_ignore\"><div class=\"entities\" style=\"line-height: 2.5; direction: ltr\">After replacing my old \n",
              "<mark class=\"entity\" style=\"background: #bfeeb7; padding: 0.45em 0.6em; margin: 0 0.25em; line-height: 1; border-radius: 0.35em;\">\n",
              "    bathroom scale\n",
              "    <span style=\"font-size: 0.8em; font-weight: bold; line-height: 1; border-radius: 0.35em; vertical-align: middle; margin-left: 0.5rem\">Product</span>\n",
              "</mark>\n",
              " Product with this sleek, modern, easy-to-read scale, I couldn't believe my eyes when I stepped on and weighed almost eight pounds heavier than my old scale. So, I put it to the litmus test and placed my two eight-pound hand weights on there, and it registered at 15.6 pounds so if anything, this scale is a fraction of weight under. The price is right too! Good scale!</div></span>"
            ],
            "text/plain": [
              "<IPython.core.display.HTML object>"
            ]
          },
          "metadata": {},
          "output_type": "display_data"
        },
        {
          "name": "stdout",
          "output_type": "stream",
          "text": [
            "None\n",
            "Product id : B0010O748Q\n"
          ]
        },
        {
          "data": {
            "text/html": [
              "<span class=\"tex2jax_ignore\"><div class=\"entities\" style=\"line-height: 2.5; direction: ltr\">I purchased this product the Magnesium \n",
              "<mark class=\"entity\" style=\"background: #bfeeb7; padding: 0.45em 0.6em; margin: 0 0.25em; line-height: 1; border-radius: 0.35em;\">\n",
              "    Fire Starter\n",
              "    <span style=\"font-size: 0.8em; font-weight: bold; line-height: 1; border-radius: 0.35em; vertical-align: middle; margin-left: 0.5rem\">Product</span>\n",
              "</mark>\n",
              " Product and the Light My Fire Swedish Fire Steel 2.0 Army. I will give you my experience testing both products.Magnesium Fire Starter:I had problems with this product initially, because there is a very thick protective coating covering the flint rod. It took a little effort to scrape off the coating. You will not get any sparks until this coating is completely removed. Using the included striker/saw, I was able to produce a reasonable amount of sparks. Surprisingly, I was able to generate a greater volume of sparks using the striker included with the Light My Fire Swedish Fire Steel 2.0. The Magnesium Fire Starter requires a little preparation and practice to be reliable.Light My Fire Swedish Fire Steel 2.0 Army:The Swedish Fire Steel is ready to go right out of the package. It generates a shower of hot potent sparks with little effort. If you need to get a fire started in a hurry this is the better choice when good tender is available. It cost a little more, but it creates a much hotter shower of sparks and makes quick work of starting a fire.Test Conditions:My test consisted of starting a fire from material available on a beach in Florida. I gathered relatively dry tender that had fallen from palm trees. The tender was a little thicker then I would prefer, but that is what was available at the time. I tried both products and neither would create a fire from the thick tender with sparks alone. Then I created a few magnesium shavings on the palm tender with the Magnesium \n",
              "<mark class=\"entity\" style=\"background: #bfeeb7; padding: 0.45em 0.6em; margin: 0 0.25em; line-height: 1; border-radius: 0.35em;\">\n",
              "    Fire Starter\n",
              "    <span style=\"font-size: 0.8em; font-weight: bold; line-height: 1; border-radius: 0.35em; vertical-align: middle; margin-left: 0.5rem\">Product</span>\n",
              "</mark>\n",
              " Product . The spark from the Magnesium \n",
              "<mark class=\"entity\" style=\"background: #bfeeb7; padding: 0.45em 0.6em; margin: 0 0.25em; line-height: 1; border-radius: 0.35em;\">\n",
              "    Fire Starter\n",
              "    <span style=\"font-size: 0.8em; font-weight: bold; line-height: 1; border-radius: 0.35em; vertical-align: middle; margin-left: 0.5rem\">Product</span>\n",
              "</mark>\n",
              " Product was hot enough to ignite the magnesium shavings, but did not ignite the palm tender. The hotter spark from the Light My Fire Swedish Fire Steel ignited the magnesium shavings and ignited the palm tender resulting in combustion very quickly.Conclusion:I prefer the Light My Fire Swedish Fire Steel 2.0 Army for most applications - 99% of the time. If you need to start a fire with damp tender, the Magnesium \n",
              "<mark class=\"entity\" style=\"background: #bfeeb7; padding: 0.45em 0.6em; margin: 0 0.25em; line-height: 1; border-radius: 0.35em;\">\n",
              "    Fire Starter\n",
              "    <span style=\"font-size: 0.8em; font-weight: bold; line-height: 1; border-radius: 0.35em; vertical-align: middle; margin-left: 0.5rem\">Product</span>\n",
              "</mark>\n",
              " Product will be a handy addition to the party. Being able to create magnesium shavings with the saw is a handy feature in extreme situations</div></span>"
            ],
            "text/plain": [
              "<IPython.core.display.HTML object>"
            ]
          },
          "metadata": {},
          "output_type": "display_data"
        },
        {
          "name": "stdout",
          "output_type": "stream",
          "text": [
            "None\n",
            "Product id : B0049LUI9O\n"
          ]
        },
        {
          "data": {
            "text/html": [
              "<span class=\"tex2jax_ignore\"><div class=\"entities\" style=\"line-height: 2.5; direction: ltr\">Before receiving the Panasonic ER-GN30-K Vortex Wet/dry Nose and Facial Hair Trimmer Product ER-GN30-K, I was using the bulky Panasonic ER-411. The ER-GN30-K is a vast improvement, especially with the dual-edge blade that cuts nasal and facial hairs that now enter the trimmer not only the sides but also the top. As the literature indicates, it is perfect for trimming individual stray hairs on the eyebrows or facial hair. The new Vortex Cleaning System is easy to use by running the trimmer in water it thoroughly cleans the trimmer head. The trimmer is lighter than the E411 with a new ergonomic design, curved, hypo-allergenic stainless steel blades, plus wet-dry operation. It takes AA batteries (NOT INCLUDED?) Highly recommended</div></span>"
            ],
            "text/plain": [
              "<IPython.core.display.HTML object>"
            ]
          },
          "metadata": {},
          "output_type": "display_data"
        },
        {
          "name": "stdout",
          "output_type": "stream",
          "text": [
            "None\n",
            "Product id : B001F51VRK\n"
          ]
        },
        {
          "data": {
            "text/html": [
              "<span class=\"tex2jax_ignore\"><div class=\"entities\" style=\"line-height: 2.5; direction: ltr\">I have been given the opportunity to try Secret's new clinical strength \n",
              "<mark class=\"entity\" style=\"background: #bfeeb7; padding: 0.45em 0.6em; margin: 0 0.25em; line-height: 1; border-radius: 0.35em;\">\n",
              "    deodorants\n",
              "    <span style=\"font-size: 0.8em; font-weight: bold; line-height: 1; border-radius: 0.35em; vertical-align: middle; margin-left: 0.5rem\">Product</span>\n",
              "</mark>\n",
              " Product over the past few months, products which I would not have paid the additional funds to try out. I have been very pleased with all of them, including the marathon fresh or sport version. All of the clinical strength advanced deodorants have an unusual consistency, not like their other products I have always used. However, one of the things I really like about them is the fact they do not ball up or leave streaks in my shirts. They seem to absorb well and the protection really seems to hold up all the way around.Many times I believe manufacturer's create new and improved products which really are not much different than their predecessors and use it to inflate their prices. However, this is one of the few times I believe that is not entirely the case. Yes, I think the clinical strenth line is over-priced but it is definitely a vast improvement over previous types of Secret deodorants Product I have used over the years.</div></span>"
            ],
            "text/plain": [
              "<IPython.core.display.HTML object>"
            ]
          },
          "metadata": {},
          "output_type": "display_data"
        },
        {
          "name": "stdout",
          "output_type": "stream",
          "text": [
            "None\n"
          ]
        }
      ],
      "source": [
        "for i in dict1.keys():\n",
        "    print(\"Product id :\",i)\n",
        "    print(ner(dict1[i]))"
      ]
    },
    {
      "cell_type": "code",
      "execution_count": null,
      "id": "5f3aab6a",
      "metadata": {
        "id": "5f3aab6a"
      },
      "outputs": [],
      "source": []
    },
    {
      "cell_type": "code",
      "execution_count": null,
      "id": "6a3c1f26",
      "metadata": {
        "id": "6a3c1f26"
      },
      "outputs": [],
      "source": []
    },
    {
      "cell_type": "code",
      "execution_count": null,
      "id": "5bced28a",
      "metadata": {
        "id": "5bced28a"
      },
      "outputs": [],
      "source": []
    },
    {
      "cell_type": "code",
      "execution_count": null,
      "id": "2ed04e70",
      "metadata": {
        "id": "2ed04e70"
      },
      "outputs": [],
      "source": [
        "# data=[\"I have an 18 year old pampered cat...who is earning her nickname of stinky I cover all her favorite places to sleep with throw blankets and I'm constantly washing them. This Tide liquid with Spring and Renewal Fabreze Freshness is perfect for cleaning her blankets and taking care of the aroma problems.Any laundry that consists of tough stuff gets washed in this Tide liquid. Beach blankets, car washing towels, gardening gloves, etc. get the Tide treatment. They come out clean and springy fresh. Since I garden every day I have clothes that get mighty dirty while spreading the horse manure, and a more delicate detergent just doesnt quite do the job. Tide for the tough stuff! This 92 oz. container does 48 loads, and thats a lot of kitty blankies.\",\n",
        "#       \"This is my second BlenderBottle.  I lost the steel ball in my last bottle but continued to use it for quite a while.  The moment I received my second bottle, I noticed a significant improvement in the consistency of my shake.  I blend a scoop of protein powder and NoXplode with the container filled half way with water.With the steel ball, it takes less then 15 seconds (as opposed to 30 seconds without) to create a smooth and creamy shake.  The bottle is very easy to clean up and I use it at least 5 days a week.  Convenient for making my pre-workout shake right at my office cubicle before hitting the gym during my lunch break!Highly recommended.\",\n",
        "#       \"Used at an indoor range the other day.  Worked great and could still hear conversations.  Until another shooter in the lane next to me started shooting a magnum.  It was too much, I need to put on ear plugs under the earmuffs.\",\n",
        "#       \"If you shoot a double stack pistol and want to be able to reload mags fast while saving your thumbs, then the MagLULA pistol mag loader is the best thing to have. Let you load mags of any manufacturer fast, with minimal effort\",\n",
        "#       \"If you don't use one of these mag loaders, you need to get one NOW.  Watch some of the youtube videos on using them and you will see how easy it is to load the toughest magazines to capacity.  I have one for each of the mag sizes I own and even bought my wife one of her own (a pink one :-) so that we are not bickering over one at the range.\",\n",
        "#       \"I bought this protein powder (Vanilla Ice Cream flavor) after my personal trainer suggested I start taking protein shakes. The protein powder that he wanted me to buy at the gym was way too pricey for my budget (Xsport brand).  So I bought this as an alternative because it had a similar composition.  It is low on fat and carbs while still giving a high dose of protein.I usually mix with milk (as I don't currently have a blender) and it mixes pretty well but sometimes still get a few chunks.  It has also taken me a while to get used to since I have never eaten protein shakes before, which also means I can't compare it to other products.  The flavor overall is fairly good and it is reminiscent of cake mix.  It tastes a lot better when I make it in a smoothie with added fruit, ice, and other mix-ins; most likely because it hid the flavor better (I use The Abs Diet recipes).I found it is a great snack for me between meals or for breakfast or after workouts.  It keeps me full but it does leave me feel sort of bloated after drinking one.Buying it in a larger quantity means getting a better deal.  So it's a good deal for what I think is a little higher quality protein powder.\",\n",
        "#       \"The 550 paracord was delivered on time and as promised.  I find uses for this stuff every day and carry some in my tool box, truck, brief case, and tackle box.  It's kind of like the duct tape of ropes!\",\n",
        "#       \"While this deodorant doesn't replace my go-to favorite Certain Dri, it does take the place of the other deodorant I was using during the day to go along with Certain Dri on the hot days of summer.  It doesn't irritate the skin which is a major bonus and it smells great.  It works really well as a companion to Certain Dri but I found that on its own it still doesn't give 100% protection.  I am also a bit of a sweater so this may be perfect for the girls out there that perspire and don't sweat ;)\",\n",
        "#       \"After replacing my old bathroom scale with this sleek, modern, easy-to-read scale, I couldn't believe my eyes when I stepped on and weighed almost eight pounds heavier than my old scale.  So, I put it to the litmus test and placed my two eight-pound hand weights on there, and it registered at 15.6 pounds so if anything, this scale is a fraction of weight under.  The price is right too!  Good scale!\",\n",
        "#       \"I purchased this product the Magnesium Fire Starter and the Light My Fire Swedish Fire Steel 2.0 Army.  I will give you my experience testing both products.Magnesium Fire Starter:I had problems with this product initially, because there is a very thick protective coating covering the flint rod.  It took a little effort to scrape off the coating.  You will not get any sparks until this coating is completely removed.  Using the included striker/saw, I was able to produce a reasonable amount of sparks.  Surprisingly, I was able to generate a greater volume of sparks using the striker included with the Light My Fire Swedish Fire Steel 2.0.  The Magnesium Fire Starter requires a little preparation and practice to be reliable.Light My Fire Swedish Fire Steel 2.0 Army:The Swedish Fire Steel is ready to go right out of the package.  It generates a shower of hot potent sparks with little effort.  If you need to get a fire started in a hurry this is the better choice when good tender is available.  It cost a little more, but it creates a much hotter shower of sparks and makes quick work of starting a fire.Test Conditions:My test consisted of starting a fire from material available on a beach in Florida.  I gathered relatively dry tender that had fallen from palm trees.  The tender was a little thicker then I would prefer, but that is what was available at the time.  I tried both products and neither would create a fire from the thick tender with sparks alone.  Then I created a few magnesium shavings on the palm tender with the Magnesium Fire Starter.  The spark from the Magnesium Fire Starter was hot enough to ignite the magnesium shavings, but did not ignite the palm tender.  The hotter spark from the Light My Fire Swedish Fire Steel ignited the magnesium shavings and ignited the palm tender resulting in combustion very quickly.Conclusion:I prefer the Light My Fire Swedish Fire Steel 2.0 Army for most applications - 99% of the time.  If you need to start a fire with damp tender, the Magnesium Fire Starter will be a handy addition to the party.  Being able to create magnesium shavings with the saw is a handy feature in extreme situations\",\n",
        "#       \"Before receiving the Panasonic ER-GN30-K Vortex Wet/dry Nose and Facial Hair Trimmer ER-GN30-K,  I was using the bulky Panasonic ER-411. The ER-GN30-K is a vast improvement, especially with the dual-edge blade that cuts nasal and facial hairs that now enter the trimmer not only the sides but also the top. As the literature indicates, it is perfect for trimming individual stray hairs on the eyebrows or facial hair.  The new Vortex Cleaning System is easy to use by running the trimmer in water it thoroughly cleans the trimmer head. The trimmer is lighter than the E411 with a new ergonomic design, curved, hypo-allergenic stainless steel blades, plus wet-dry operation. It takes AA batteries (NOT INCLUDED?) Highly recommended\",\n",
        "#       \"I have been given the opportunity to try Secret's new clinical strength deodorants over the past few months, products which I would not have paid the additional funds to try out.  I have been very pleased with all of them, including the marathon fresh or sport version. All of the clinical strength advanced deodorants have an unusual consistency, not like their other products I have always used.  However, one of the things I really like about them is the fact they do not ball up or leave streaks in my shirts.  They seem to absorb well and the protection really seems to hold up all the way around.Many times I believe manufacturer's create new and improved products which really are not much different than their predecessors and use it to inflate their prices.  However, this is one of the few times I believe that is not entirely the case. Yes, I think the clinical strenth line is over-priced but it is definitely a vast improvement over previous types of Secret deodorants I have used over the years.\"\n",
        "      \n",
        "      \n",
        "      \n",
        "#      ]"
      ]
    }
  ],
  "metadata": {
    "kernelspec": {
      "display_name": "Python 3 (ipykernel)",
      "language": "python",
      "name": "python3"
    },
    "language_info": {
      "codemirror_mode": {
        "name": "ipython",
        "version": 3
      },
      "file_extension": ".py",
      "mimetype": "text/x-python",
      "name": "python",
      "nbconvert_exporter": "python",
      "pygments_lexer": "ipython3",
      "version": "3.9.15"
    },
    "colab": {
      "provenance": []
    }
  },
  "nbformat": 4,
  "nbformat_minor": 5
}